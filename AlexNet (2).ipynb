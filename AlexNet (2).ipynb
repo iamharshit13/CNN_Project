{
 "cells": [
  {
   "cell_type": "code",
   "execution_count": 14,
   "metadata": {},
   "outputs": [],
   "source": [
    "import keras\n",
    "import numpy as np\n",
    "from keras.datasets import cifar10\n",
    "from keras.preprocessing.image import ImageDataGenerator\n",
    "from keras.models import Sequential\n",
    "from keras.layers import Dense, Dropout, Activation, Flatten\n",
    "from keras.layers import Conv2D, MaxPooling2D, GlobalAveragePooling2D, AveragePooling2D, ZeroPadding2D\n",
    "from keras.initializers import he_normal\n",
    "from keras import optimizers\n",
    "from keras.layers.normalization import BatchNormalization"
   ]
  },
  {
   "cell_type": "code",
   "execution_count": 15,
   "metadata": {},
   "outputs": [],
   "source": [
    "num_classes  = 10\n",
    "batch_size   = 128\n",
    "epochs       = 50\n",
    "dropout      = 0.5\n",
    "weight_decay = 0.0001"
   ]
  },
  {
   "cell_type": "code",
   "execution_count": 28,
   "metadata": {},
   "outputs": [],
   "source": [
    "(x_train, y_train), (x_test, y_test) = cifar10.load_data()\n",
    "y_train = keras.utils.to_categorical(y_train, num_classes)\n",
    "y_test = keras.utils.to_categorical(y_test, num_classes)\n",
    "x_train = x_train.astype('float32')\n",
    "x_test = x_test.astype('float32')\n",
    "x_train = x_train/255\n",
    "x_test = x_test/255"
   ]
  },
  {
   "cell_type": "code",
   "execution_count": 29,
   "metadata": {},
   "outputs": [
    {
     "name": "stdout",
     "output_type": "stream",
     "text": [
      "Model: \"sequential_11\"\n",
      "_________________________________________________________________\n",
      "Layer (type)                 Output Shape              Param #   \n",
      "=================================================================\n",
      "conv2d_51 (Conv2D)           (None, 8, 8, 96)          2688      \n",
      "_________________________________________________________________\n",
      "max_pooling2d_31 (MaxPooling (None, 4, 4, 96)          0         \n",
      "_________________________________________________________________\n",
      "conv2d_52 (Conv2D)           (None, 4, 4, 256)         614656    \n",
      "_________________________________________________________________\n",
      "max_pooling2d_32 (MaxPooling (None, 2, 2, 256)         0         \n",
      "_________________________________________________________________\n",
      "conv2d_53 (Conv2D)           (None, 2, 2, 384)         885120    \n",
      "_________________________________________________________________\n",
      "conv2d_54 (Conv2D)           (None, 2, 2, 384)         1327488   \n",
      "_________________________________________________________________\n",
      "conv2d_55 (Conv2D)           (None, 2, 2, 256)         884992    \n",
      "_________________________________________________________________\n",
      "max_pooling2d_33 (MaxPooling (None, 1, 1, 256)         0         \n",
      "_________________________________________________________________\n",
      "flatten_7 (Flatten)          (None, 256)               0         \n",
      "_________________________________________________________________\n",
      "dense_19 (Dense)             (None, 4096)              1052672   \n",
      "_________________________________________________________________\n",
      "dropout_13 (Dropout)         (None, 4096)              0         \n",
      "_________________________________________________________________\n",
      "dense_20 (Dense)             (None, 4096)              16781312  \n",
      "_________________________________________________________________\n",
      "dropout_14 (Dropout)         (None, 4096)              0         \n",
      "_________________________________________________________________\n",
      "dense_21 (Dense)             (None, 10)                40970     \n",
      "=================================================================\n",
      "Total params: 21,589,898\n",
      "Trainable params: 21,589,898\n",
      "Non-trainable params: 0\n",
      "_________________________________________________________________\n"
     ]
    }
   ],
   "source": [
    "alexnet = Sequential()\n",
    "alexnet.add(Conv2D(filters=96,kernel_size=(3,3),strides=(4,4),input_shape=input_shape, activation='relu'))\n",
    "alexnet.add(MaxPooling2D(pool_size=(2,2),strides=(2,2)))\n",
    "alexnet.add(Conv2D(256,(5,5),padding='same',activation='relu'))\n",
    "alexnet.add(MaxPooling2D(pool_size=(2,2),strides=(2,2)))\n",
    "alexnet.add(Conv2D(384,(3,3),padding='same',activation='relu'))\n",
    "alexnet.add(Conv2D(384,(3,3),padding='same',activation='relu'))\n",
    "alexnet.add(Conv2D(256,(3,3),padding='same',activation='relu'))\n",
    "alexnet.add(MaxPooling2D(pool_size=(2,2),strides=(2,2)))\n",
    "alexnet.add(Flatten())\n",
    "alexnet.add(Dense(4096, activation='relu'))\n",
    "alexnet.add(Dropout(0.4))\n",
    "alexnet.add(Dense(4096, activation='relu'))\n",
    "alexnet.add(Dropout(0.4))\n",
    "alexnet.add(Dense(num_classes,activation='softmax'))\n",
    "\n",
    "alexnet.compile(optimizer='adam',loss='categorical_crossentropy',metrics=['accuracy'])\n",
    "alexnet.summary()"
   ]
  },
  {
   "cell_type": "code",
   "execution_count": 30,
   "metadata": {},
   "outputs": [
    {
     "name": "stdout",
     "output_type": "stream",
     "text": [
      "Epoch 1/50\n",
      "50000/50000 [==============================] - 12s 249us/step - loss: 1.9341 - accuracy: 0.2087\n",
      "Epoch 2/50\n",
      "50000/50000 [==============================] - 12s 240us/step - loss: 1.5829 - accuracy: 0.3897\n",
      "Epoch 3/50\n",
      "50000/50000 [==============================] - 12s 238us/step - loss: 1.3920 - accuracy: 0.4918\n",
      "Epoch 4/50\n",
      "50000/50000 [==============================] - 12s 238us/step - loss: 1.2575 - accuracy: 0.5457\n",
      "Epoch 5/50\n",
      "50000/50000 [==============================] - 12s 239us/step - loss: 1.1674 - accuracy: 0.5828\n",
      "Epoch 6/50\n",
      "50000/50000 [==============================] - 12s 239us/step - loss: 1.0941 - accuracy: 0.6099\n",
      "Epoch 7/50\n",
      "50000/50000 [==============================] - 12s 240us/step - loss: 1.0343 - accuracy: 0.6307\n",
      "Epoch 8/50\n",
      "50000/50000 [==============================] - 12s 241us/step - loss: 0.9683 - accuracy: 0.6571\n",
      "Epoch 9/50\n",
      "50000/50000 [==============================] - 12s 239us/step - loss: 0.9146 - accuracy: 0.6777\n",
      "Epoch 10/50\n",
      "50000/50000 [==============================] - 12s 240us/step - loss: 0.8539 - accuracy: 0.6993\n",
      "Epoch 11/50\n",
      "50000/50000 [==============================] - 12s 240us/step - loss: 0.8075 - accuracy: 0.7147\n",
      "Epoch 12/50\n",
      "50000/50000 [==============================] - 12s 239us/step - loss: 0.7551 - accuracy: 0.7322\n",
      "Epoch 13/50\n",
      "50000/50000 [==============================] - 12s 240us/step - loss: 0.7020 - accuracy: 0.7510\n",
      "Epoch 14/50\n",
      "50000/50000 [==============================] - 12s 239us/step - loss: 0.6565 - accuracy: 0.7681\n",
      "Epoch 15/50\n",
      "50000/50000 [==============================] - 12s 239us/step - loss: 0.5951 - accuracy: 0.7921\n",
      "Epoch 16/50\n",
      "50000/50000 [==============================] - 12s 240us/step - loss: 0.5533 - accuracy: 0.8066\n",
      "Epoch 17/50\n",
      "50000/50000 [==============================] - 12s 238us/step - loss: 0.4993 - accuracy: 0.8250\n",
      "Epoch 18/50\n",
      "50000/50000 [==============================] - 12s 241us/step - loss: 0.4646 - accuracy: 0.8367\n",
      "Epoch 19/50\n",
      "50000/50000 [==============================] - 12s 239us/step - loss: 0.4184 - accuracy: 0.8543\n",
      "Epoch 20/50\n",
      "50000/50000 [==============================] - 12s 240us/step - loss: 0.3838 - accuracy: 0.8658\n",
      "Epoch 21/50\n",
      "50000/50000 [==============================] - 12s 239us/step - loss: 0.3564 - accuracy: 0.8768\n",
      "Epoch 22/50\n",
      "50000/50000 [==============================] - 12s 240us/step - loss: 0.3238 - accuracy: 0.8888\n",
      "Epoch 23/50\n",
      "50000/50000 [==============================] - 12s 238us/step - loss: 0.2951 - accuracy: 0.8983\n",
      "Epoch 24/50\n",
      "50000/50000 [==============================] - 12s 239us/step - loss: 0.2813 - accuracy: 0.9045\n",
      "Epoch 25/50\n",
      "50000/50000 [==============================] - 12s 241us/step - loss: 0.2491 - accuracy: 0.9167\n",
      "Epoch 26/50\n",
      "50000/50000 [==============================] - 12s 239us/step - loss: 0.2230 - accuracy: 0.9239\n",
      "Epoch 27/50\n",
      "50000/50000 [==============================] - 12s 240us/step - loss: 0.2126 - accuracy: 0.9291\n",
      "Epoch 28/50\n",
      "50000/50000 [==============================] - 12s 239us/step - loss: 0.1956 - accuracy: 0.9348\n",
      "Epoch 29/50\n",
      "50000/50000 [==============================] - 12s 239us/step - loss: 0.1860 - accuracy: 0.9373\n",
      "Epoch 30/50\n",
      "50000/50000 [==============================] - 12s 241us/step - loss: 0.1788 - accuracy: 0.9397\n",
      "Epoch 31/50\n",
      "50000/50000 [==============================] - 12s 241us/step - loss: 0.1682 - accuracy: 0.9438\n",
      "Epoch 32/50\n",
      "50000/50000 [==============================] - 12s 241us/step - loss: 0.1668 - accuracy: 0.9437\n",
      "Epoch 33/50\n",
      "50000/50000 [==============================] - 12s 242us/step - loss: 0.1565 - accuracy: 0.9485\n",
      "Epoch 34/50\n",
      "50000/50000 [==============================] - 12s 242us/step - loss: 0.1488 - accuracy: 0.9499\n",
      "Epoch 35/50\n",
      "50000/50000 [==============================] - 12s 241us/step - loss: 0.1494 - accuracy: 0.9500\n",
      "Epoch 36/50\n",
      "50000/50000 [==============================] - 12s 240us/step - loss: 0.1302 - accuracy: 0.9569\n",
      "Epoch 37/50\n",
      "50000/50000 [==============================] - 12s 239us/step - loss: 0.1268 - accuracy: 0.9573\n",
      "Epoch 38/50\n",
      "50000/50000 [==============================] - 12s 238us/step - loss: 0.1476 - accuracy: 0.9530\n",
      "Epoch 39/50\n",
      "50000/50000 [==============================] - 12s 240us/step - loss: 0.1295 - accuracy: 0.9586\n",
      "Epoch 40/50\n",
      "50000/50000 [==============================] - 12s 241us/step - loss: 0.1154 - accuracy: 0.9618\n",
      "Epoch 41/50\n",
      "50000/50000 [==============================] - 12s 240us/step - loss: 0.1158 - accuracy: 0.9625\n",
      "Epoch 42/50\n",
      "50000/50000 [==============================] - 12s 237us/step - loss: 0.1148 - accuracy: 0.9626\n",
      "Epoch 43/50\n",
      "50000/50000 [==============================] - 12s 238us/step - loss: 0.1216 - accuracy: 0.9618\n",
      "Epoch 44/50\n",
      "50000/50000 [==============================] - 12s 237us/step - loss: 0.1201 - accuracy: 0.9610\n",
      "Epoch 45/50\n",
      "50000/50000 [==============================] - 12s 239us/step - loss: 0.1050 - accuracy: 0.9663\n",
      "Epoch 46/50\n",
      "50000/50000 [==============================] - 12s 240us/step - loss: 0.1133 - accuracy: 0.9630\n",
      "Epoch 47/50\n",
      "50000/50000 [==============================] - 12s 237us/step - loss: 0.1059 - accuracy: 0.9658\n",
      "Epoch 48/50\n",
      "50000/50000 [==============================] - 12s 240us/step - loss: 0.0992 - accuracy: 0.9685\n",
      "Epoch 49/50\n",
      "50000/50000 [==============================] - 12s 239us/step - loss: 0.0959 - accuracy: 0.9703\n",
      "Epoch 50/50\n",
      "50000/50000 [==============================] - 12s 241us/step - loss: 0.0914 - accuracy: 0.9712\n"
     ]
    },
    {
     "data": {
      "text/plain": [
       "<keras.callbacks.callbacks.History at 0x7f2a4e9eef28>"
      ]
     },
     "execution_count": 30,
     "metadata": {},
     "output_type": "execute_result"
    }
   ],
   "source": [
    "alexnet.fit(x_train, y_train, batch_size = batch_size, epochs = epochs, shuffle = True)"
   ]
  },
  {
   "cell_type": "code",
   "execution_count": 31,
   "metadata": {},
   "outputs": [
    {
     "name": "stdout",
     "output_type": "stream",
     "text": [
      "10000/10000 [==============================] - 2s 178us/step\n",
      "Test loss: 2.668234287071228\n",
      "Test accuracy: 0.5893999934196472\n"
     ]
    }
   ],
   "source": [
    "scores = alexnet.evaluate(x_test, y_test, verbose=1)\n",
    "print('Test loss:', scores[0])\n",
    "print('Test accuracy:', scores[1])"
   ]
  },
  {
   "cell_type": "code",
   "execution_count": 32,
   "metadata": {},
   "outputs": [],
   "source": [
    "alexnet.save('alexnet.h5')\n",
    "alexnet.save_weights('alexnet_weights.h5')"
   ]
  },
  {
   "cell_type": "code",
   "execution_count": null,
   "metadata": {},
   "outputs": [],
   "source": []
  }
 ],
 "metadata": {
  "kernelspec": {
   "display_name": "Python 3",
   "language": "python",
   "name": "python3"
  },
  "language_info": {
   "codemirror_mode": {
    "name": "ipython",
    "version": 3
   },
   "file_extension": ".py",
   "mimetype": "text/x-python",
   "name": "python",
   "nbconvert_exporter": "python",
   "pygments_lexer": "ipython3",
   "version": "3.6.8"
  }
 },
 "nbformat": 4,
 "nbformat_minor": 4
}
