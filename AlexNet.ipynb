{
  "nbformat": 4,
  "nbformat_minor": 0,
  "metadata": {
    "colab": {
      "name": "Untitled0.ipynb",
      "provenance": [],
      "machine_shape": "hm"
    },
    "kernelspec": {
      "name": "python3",
      "display_name": "Python 3"
    },
    "accelerator": "GPU"
  },
  "cells": [
    {
      "cell_type": "code",
      "metadata": {
        "id": "l_azauPhvayp",
        "colab_type": "code",
        "colab": {
          "base_uri": "https://localhost:8080/",
          "height": 34
        },
        "outputId": "49f4a33e-566a-4a70-f063-98ce5f22fae2"
      },
      "source": [
        "import numpy as np\n",
        "from keras.datasets import cifar10\n",
        "from keras.models import Sequential\n",
        "from keras.layers import Dense, Activation, Dropout, Flatten, Conv2D, MaxPooling2D\n",
        "from keras.layers.normalization import BatchNormalization\n",
        "import matplotlib.pyplot as plt\n",
        "import skimage.transform\n",
        "from skimage.util import img_as_ubyte\n",
        "np.random.seed(1000)"
      ],
      "execution_count": 1,
      "outputs": [
        {
          "output_type": "stream",
          "text": [
            "Using TensorFlow backend.\n"
          ],
          "name": "stderr"
        }
      ]
    },
    {
      "cell_type": "code",
      "metadata": {
        "id": "Kno9fxRivryG",
        "colab_type": "code",
        "outputId": "1ef661b6-80d2-43e0-ca48-5a574facf51c",
        "colab": {
          "base_uri": "https://localhost:8080/",
          "height": 68
        }
      },
      "source": [
        "(x_train_orig, y_train), (x_test_orig, y_test) = cifar10.load_data()\n",
        "print(x_train_orig.shape, y_train.shape, x_test_orig.shape, y_test.shape)"
      ],
      "execution_count": 2,
      "outputs": [
        {
          "output_type": "stream",
          "text": [
            "Downloading data from https://www.cs.toronto.edu/~kriz/cifar-10-python.tar.gz\n",
            "170500096/170498071 [==============================] - 6s 0us/step\n",
            "(50000, 32, 32, 3) (50000, 1) (10000, 32, 32, 3) (10000, 1)\n"
          ],
          "name": "stdout"
        }
      ]
    },
    {
      "cell_type": "code",
      "metadata": {
        "id": "3-YTn_78vxo8",
        "colab_type": "code",
        "colab": {}
      },
      "source": [
        "def convert_to_imagenet_size(images):\n",
        "    temp_img = []\n",
        "    for i in range(len(images)):\n",
        "        image = images[i]\n",
        "        image = skimage.transform.resize(image,(224,224),mode='constant')\n",
        "        temp_img.append(image)\n",
        "    return np.array(temp_img)"
      ],
      "execution_count": 0,
      "outputs": []
    },
    {
      "cell_type": "code",
      "metadata": {
        "id": "MQAiiKyXv-KY",
        "colab_type": "code",
        "outputId": "f0d53aee-a3b7-4867-a727-d1dc74f2cf9b",
        "colab": {
          "base_uri": "https://localhost:8080/",
          "height": 34
        }
      },
      "source": [
        "#x_train = convert_to_imagenet_size(x_train_orig[:5000])\n",
        "x_test = convert_to_imagenet_size(x_test_orig)\n",
        "print(x_test.shape) #x_train.shape, "
      ],
      "execution_count": 4,
      "outputs": [
        {
          "output_type": "stream",
          "text": [
            "(10000, 224, 224, 3)\n"
          ],
          "name": "stdout"
        }
      ]
    },
    {
      "cell_type": "code",
      "metadata": {
        "id": "8t7Z6Oq2yA9p",
        "colab_type": "code",
        "colab": {}
      },
      "source": [
        "np.save('cifar10_test.npy', x_test)"
      ],
      "execution_count": 0,
      "outputs": []
    },
    {
      "cell_type": "code",
      "metadata": {
        "id": "pLJFHVp6yqUf",
        "colab_type": "code",
        "colab": {}
      },
      "source": [
        ""
      ],
      "execution_count": 0,
      "outputs": []
    }
  ]
}